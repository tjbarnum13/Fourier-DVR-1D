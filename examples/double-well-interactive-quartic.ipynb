{
 "cells": [
  {
   "cell_type": "code",
   "execution_count": 2,
   "metadata": {},
   "outputs": [],
   "source": [
    "import sys\n",
    "import numpy as np\n",
    "import matplotlib.pyplot as plt\n",
    "import ipywidgets as widgets\n",
    "\n",
    "# for local installation\n",
    "sys.path.append(\"../\") # go to parent dir if running notebook directly in sub-folder\n",
    "\n",
    "# for Google Colab\n",
    "# !git clone http://github.com/tjbarnum13/Fourier-DVR-1D.git\n",
    "# sys.path.insert(0,'/content/Fourier-DVR-1D')\n",
    "\n",
    "from fourier_DVR_1D import Domain_Fourier_DVR_1D"
   ]
  },
  {
   "cell_type": "code",
   "execution_count": 3,
   "metadata": {},
   "outputs": [],
   "source": [
    "%matplotlib inline"
   ]
  },
  {
   "cell_type": "code",
   "execution_count": 4,
   "metadata": {},
   "outputs": [],
   "source": [
    "# settings\n",
    "x_min = -5.0\n",
    "x_max = 5.0\n",
    "n_DVR = 200\n",
    "n_g = 301"
   ]
  },
  {
   "cell_type": "code",
   "execution_count": 5,
   "metadata": {},
   "outputs": [],
   "source": [
    "domain = Domain_Fourier_DVR_1D(x_min, x_max, n_DVR)"
   ]
  },
  {
   "cell_type": "code",
   "execution_count": 6,
   "metadata": {},
   "outputs": [],
   "source": [
    "def run(m, D0, a, n_plot, scale_wfn, ymax):\n",
    "    \n",
    "    def V(x):\n",
    "        return (D0 / a**4) * (x**2 - a**2)**2\n",
    "    \n",
    "    # solve\n",
    "    E, E_four = domain.solve(m, V)\n",
    "\n",
    "    # evaluate eigenstates on grid\n",
    "    x = np.linspace(x_min, x_max, n_g)\n",
    "    psi_x = domain.grid(x, E_four[:,:n_plot])\n",
    "\n",
    "    # plot eigenstates\n",
    "    plt.figure(figsize=(8, 6))\n",
    "    for i in range(n_plot):\n",
    "        plt.plot([x[0], x[-1]], [E[i], E[i]], '-', color='gray', lw=1.0)\n",
    "    plt.plot(x, V(x), 'k-', lw=2)\n",
    "    for i in range(n_plot):\n",
    "        plt.plot(x, scale_wfn * psi_x[i] + E[i], lw=1.0)\n",
    "    plt.xlim(x_min, x_max)\n",
    "    plt.ylim(0, ymax)\n",
    "    plt.xlabel('position')\n",
    "    plt.ylabel('energy')\n",
    "    plt.tight_layout()\n",
    "\n",
    "    plt.show()"
   ]
  },
  {
   "cell_type": "code",
   "execution_count": 7,
   "metadata": {
    "scrolled": false
   },
   "outputs": [
    {
     "data": {
      "application/vnd.jupyter.widget-view+json": {
       "model_id": "09b731f76904446b91f255d52c52b9d1",
       "version_major": 2,
       "version_minor": 0
      },
      "text/plain": [
       "interactive(children=(FloatSlider(value=1.0, continuous_update=False, description='m', max=2.0, min=0.1), Floa…"
      ]
     },
     "metadata": {},
     "output_type": "display_data"
    }
   ],
   "source": [
    "cu = False\n",
    "\n",
    "widgets.interact(\n",
    "    run,\n",
    "    m=widgets.FloatSlider(min=0.1, max=2, step=0.1, value=1.0, continuous_update=cu),\n",
    "    D0=widgets.FloatSlider(min=0, max=100, step=1, value=50, continuous_update=cu),\n",
    "    a=widgets.FloatSlider(min=0.5, max=3, step=0.1, value=1.7, continuous_update=cu),\n",
    "    n_plot=widgets.IntSlider(min=1, max=30, value=15, continuous_update=cu),\n",
    "    scale_wfn=widgets.FloatSlider(min=0.0, max=10, step=0.1, value=4, continuous_update=cu),\n",
    "    ymax=widgets.FloatSlider(min=10.0, max=500, step=1, value=70, continuous_update=cu)\n",
    ");"
   ]
  }
 ],
 "metadata": {
  "kernelspec": {
   "display_name": "Python 3",
   "language": "python",
   "name": "python3"
  },
  "language_info": {
   "codemirror_mode": {
    "name": "ipython",
    "version": 3
   },
   "file_extension": ".py",
   "mimetype": "text/x-python",
   "name": "python",
   "nbconvert_exporter": "python",
   "pygments_lexer": "ipython3",
   "version": "3.8.8"
  }
 },
 "nbformat": 4,
 "nbformat_minor": 1
}
